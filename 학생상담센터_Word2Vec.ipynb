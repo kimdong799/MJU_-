{
 "cells": [
  {
   "cell_type": "code",
   "execution_count": 14,
   "metadata": {},
   "outputs": [],
   "source": [
    "from selenium import webdriver\n",
    "from selenium.webdriver.common.keys import Keys\n",
    "from urllib.request import urlopen\n",
    "from urllib.parse import quote_plus\n",
    "from bs4 import BeautifulSoup\n",
    "import time \n",
    "from konlpy.tag import Okt\n",
    "import pandas as pd\n",
    "import re\n",
    "from tqdm import trange, notebook"
   ]
  },
  {
   "cell_type": "code",
   "execution_count": 8,
   "metadata": {},
   "outputs": [],
   "source": [
    "# 노트북 안에서 그래프를 그리기 위해\n",
    "%matplotlib inline\n",
    "\n",
    "# Import the standard Python Scientific Libraries\n",
    "import pandas as pd\n",
    "import numpy as np\n",
    "from scipy import stats\n",
    "import matplotlib.pyplot as plt\n",
    "import seaborn as sns\n",
    "\n",
    "# Suppress Deprecation and Incorrect Usage Warnings\n",
    "import warnings\n",
    "warnings.filterwarnings('ignore')\n",
    "plt.rc('font', family='Malgun Gothic')"
   ]
  },
  {
   "cell_type": "code",
   "execution_count": 15,
   "metadata": {},
   "outputs": [],
   "source": [
    "import pandas as pd"
   ]
  },
  {
   "cell_type": "code",
   "execution_count": 16,
   "metadata": {},
   "outputs": [],
   "source": [
    "train_data = pd.read_csv('../data/코로나_이후_명지.csv')"
   ]
  },
  {
   "cell_type": "code",
   "execution_count": 17,
   "metadata": {
    "scrolled": true
   },
   "outputs": [
    {
     "data": {
      "text/html": [
       "<div>\n",
       "<style scoped>\n",
       "    .dataframe tbody tr th:only-of-type {\n",
       "        vertical-align: middle;\n",
       "    }\n",
       "\n",
       "    .dataframe tbody tr th {\n",
       "        vertical-align: top;\n",
       "    }\n",
       "\n",
       "    .dataframe thead th {\n",
       "        text-align: right;\n",
       "    }\n",
       "</style>\n",
       "<table border=\"1\" class=\"dataframe\">\n",
       "  <thead>\n",
       "    <tr style=\"text-align: right;\">\n",
       "      <th></th>\n",
       "      <th>Unnamed: 0</th>\n",
       "      <th>recommend</th>\n",
       "      <th>comment</th>\n",
       "      <th>date</th>\n",
       "      <th>title</th>\n",
       "      <th>content</th>\n",
       "    </tr>\n",
       "  </thead>\n",
       "  <tbody>\n",
       "    <tr>\n",
       "      <th>0</th>\n",
       "      <td>0</td>\n",
       "      <td>18</td>\n",
       "      <td>8</td>\n",
       "      <td>01/24 23:07</td>\n",
       "      <td>코로나 바이러스 우한 폐렴 있잖아</td>\n",
       "      <td>우리학교 중국인 엄청 많은데 나만 걱정돼   ㄷㄷㄷㄷ ㅠㅠ</td>\n",
       "    </tr>\n",
       "    <tr>\n",
       "      <th>1</th>\n",
       "      <td>1</td>\n",
       "      <td>0</td>\n",
       "      <td>5</td>\n",
       "      <td>01/26 10:00</td>\n",
       "      <td>코로나때문에</td>\n",
       "      <td>알바하는데 손님없다 ㅋㅋㅋㅋㅋㅋ</td>\n",
       "    </tr>\n",
       "    <tr>\n",
       "      <th>2</th>\n",
       "      <td>2</td>\n",
       "      <td>0</td>\n",
       "      <td>6</td>\n",
       "      <td>01/26 10:27</td>\n",
       "      <td>코로나 예방수칙</td>\n",
       "      <td>감염루트가 비말감염 인지라 마스크만 잘 쓰고 손만 잘 씻으면 예방하는게 그다지 어렵...</td>\n",
       "    </tr>\n",
       "    <tr>\n",
       "      <th>3</th>\n",
       "      <td>3</td>\n",
       "      <td>2</td>\n",
       "      <td>1</td>\n",
       "      <td>01/26 15:26</td>\n",
       "      <td>충남도 여행사 관광객에 양해 구하고 취소요청</td>\n",
       "      <td>홍성 연합뉴스  양영석 기자    우한 폐렴 으로 불리는 신종 코로나바이러스 확산...</td>\n",
       "    </tr>\n",
       "    <tr>\n",
       "      <th>4</th>\n",
       "      <td>4</td>\n",
       "      <td>0</td>\n",
       "      <td>9</td>\n",
       "      <td>01/27 10:37</td>\n",
       "      <td>코로나 때문에 글올립니다</td>\n",
       "      <td>혹시 중국인 유학생 계속 받을려나  이번에 기숙사 들어가는데 이러면 솔직히 걱정이 ...</td>\n",
       "    </tr>\n",
       "    <tr>\n",
       "      <th>...</th>\n",
       "      <td>...</td>\n",
       "      <td>...</td>\n",
       "      <td>...</td>\n",
       "      <td>...</td>\n",
       "      <td>...</td>\n",
       "      <td>...</td>\n",
       "    </tr>\n",
       "    <tr>\n",
       "      <th>1952</th>\n",
       "      <td>1952</td>\n",
       "      <td>0</td>\n",
       "      <td>1</td>\n",
       "      <td>11/25 17:36</td>\n",
       "      <td>대면시험 개로        이동할뻔했는데    됨</td>\n",
       "      <td>케텍타고 가는길에  코로나 걸릴까봐 모자라도 살라했드만  다 비대면때리네 모든 시험...</td>\n",
       "    </tr>\n",
       "    <tr>\n",
       "      <th>1953</th>\n",
       "      <td>1953</td>\n",
       "      <td>0</td>\n",
       "      <td>8</td>\n",
       "      <td>11/25 18:05</td>\n",
       "      <td>코로나때문에 비대면 시험 보는건데</td>\n",
       "      <td>과제를 학교에 와서 내고 가라고   ㅋㅋㅋㅋㅋㅋㅋㅋㅋㅋㅋㅋㅋㅋㅋㅋㅋㅋㅋㅋㅋㅋ 엄청나...</td>\n",
       "    </tr>\n",
       "    <tr>\n",
       "      <th>1954</th>\n",
       "      <td>1954</td>\n",
       "      <td>0</td>\n",
       "      <td>8</td>\n",
       "      <td>11/25 19:07</td>\n",
       "      <td>마스크 의무화 아닌가</td>\n",
       "      <td>어르신들 너무 대놓고 안쓰고 당당하게 다니셔서 코로나 끝난 줄</td>\n",
       "    </tr>\n",
       "    <tr>\n",
       "      <th>1955</th>\n",
       "      <td>1955</td>\n",
       "      <td>3</td>\n",
       "      <td>5</td>\n",
       "      <td>18/11/26 20:06</td>\n",
       "      <td>개월 치즈냥이 주인구해요</td>\n",
       "      <td>개월 치즈냥이의 주인을 찾아요  자캠 자취러 혹은 용인에 사시는 분들 중에 고양...</td>\n",
       "    </tr>\n",
       "    <tr>\n",
       "      <th>1956</th>\n",
       "      <td>1956</td>\n",
       "      <td>0</td>\n",
       "      <td>1</td>\n",
       "      <td>8분 전</td>\n",
       "      <td>학년 마치고 바로 코로나 터져서</td>\n",
       "      <td>아직도 내가  학년 같아    후배    님들    잘 살아있나요     보고싶다 ...</td>\n",
       "    </tr>\n",
       "  </tbody>\n",
       "</table>\n",
       "<p>1957 rows × 6 columns</p>\n",
       "</div>"
      ],
      "text/plain": [
       "      Unnamed: 0  recommend  comment            date  \\\n",
       "0              0         18        8     01/24 23:07   \n",
       "1              1          0        5     01/26 10:00   \n",
       "2              2          0        6     01/26 10:27   \n",
       "3              3          2        1     01/26 15:26   \n",
       "4              4          0        9     01/27 10:37   \n",
       "...          ...        ...      ...             ...   \n",
       "1952        1952          0        1     11/25 17:36   \n",
       "1953        1953          0        8     11/25 18:05   \n",
       "1954        1954          0        8     11/25 19:07   \n",
       "1955        1955          3        5  18/11/26 20:06   \n",
       "1956        1956          0        1            8분 전   \n",
       "\n",
       "                            title  \\\n",
       "0              코로나 바이러스 우한 폐렴 있잖아   \n",
       "1                          코로나때문에   \n",
       "2                        코로나 예방수칙   \n",
       "3        충남도 여행사 관광객에 양해 구하고 취소요청   \n",
       "4                  코로나 때문에 글올립니다    \n",
       "...                           ...   \n",
       "1952  대면시험 개로        이동할뻔했는데    됨   \n",
       "1953           코로나때문에 비대면 시험 보는건데   \n",
       "1954               마스크 의무화 아닌가      \n",
       "1955                개월 치즈냥이 주인구해요   \n",
       "1956            학년 마치고 바로 코로나 터져서   \n",
       "\n",
       "                                                content  \n",
       "0                      우리학교 중국인 엄청 많은데 나만 걱정돼   ㄷㄷㄷㄷ ㅠㅠ  \n",
       "1                                     알바하는데 손님없다 ㅋㅋㅋㅋㅋㅋ  \n",
       "2     감염루트가 비말감염 인지라 마스크만 잘 쓰고 손만 잘 씻으면 예방하는게 그다지 어렵...  \n",
       "3      홍성 연합뉴스  양영석 기자    우한 폐렴 으로 불리는 신종 코로나바이러스 확산...  \n",
       "4     혹시 중국인 유학생 계속 받을려나  이번에 기숙사 들어가는데 이러면 솔직히 걱정이 ...  \n",
       "...                                                 ...  \n",
       "1952  케텍타고 가는길에  코로나 걸릴까봐 모자라도 살라했드만  다 비대면때리네 모든 시험...  \n",
       "1953  과제를 학교에 와서 내고 가라고   ㅋㅋㅋㅋㅋㅋㅋㅋㅋㅋㅋㅋㅋㅋㅋㅋㅋㅋㅋㅋㅋㅋ 엄청나...  \n",
       "1954                 어르신들 너무 대놓고 안쓰고 당당하게 다니셔서 코로나 끝난 줄  \n",
       "1955    개월 치즈냥이의 주인을 찾아요  자캠 자취러 혹은 용인에 사시는 분들 중에 고양...  \n",
       "1956  아직도 내가  학년 같아    후배    님들    잘 살아있나요     보고싶다 ...  \n",
       "\n",
       "[1957 rows x 6 columns]"
      ]
     },
     "execution_count": 17,
     "metadata": {},
     "output_type": "execute_result"
    }
   ],
   "source": [
    "train_data"
   ]
  },
  {
   "cell_type": "code",
   "execution_count": 18,
   "metadata": {},
   "outputs": [],
   "source": [
    "train_data['title'] = train_data['title'].str.replace(\"[^ㄱ-하-ㅣ가-힣]\",\" \") # 한글이 아니면 전부 제거\n",
    "train_data['content'] = train_data['content'].str.replace(\"[^ㄱ-하-ㅣ가-힣]\",\" \") # 한글이 아니면 전부 제거"
   ]
  },
  {
   "cell_type": "code",
   "execution_count": 21,
   "metadata": {},
   "outputs": [],
   "source": [
    "# 불용어 지정\n",
    "stopwords = ['의','가','이','은','들','는','좀','잘','걍','과','도','를','으로','자','에','와','한','하다']\n",
    "\n",
    "# 형태소 분석기 OKT를 사용한 토큰화 작업 (다소 시간 소요)\n",
    "okt = Okt()\n",
    "tokenized_data = []\n",
    "\n",
    "for sentence in train_data['content']:\n",
    "    temp_X = okt.morphs(sentence, stem=True) # 토큰화\n",
    "    temp_X = [word for word in temp_X if not word in stopwords] # 불용어 제거\n",
    "    tokenized_data.append(temp_X)\n",
    "    \n",
    "for sentence in train_data['title']:\n",
    "    temp_X = okt.morphs(sentence, stem=True) # 토큰화\n",
    "    temp_X = [word for word in temp_X if not word in stopwords] # 불용어 제거\n",
    "    tokenized_data.append(temp_X)"
   ]
  },
  {
   "cell_type": "code",
   "execution_count": 36,
   "metadata": {},
   "outputs": [],
   "source": [
    "from gensim.models import Word2Vec\n",
    "\n",
    "# 형태소 분석 완료\n",
    "sentences = tokenized_data\n",
    "\n",
    "\n",
    "# 문장을 이용하여 단어와 벡터를 생성한다.\n",
    "model = Word2Vec(sentences, size=300, window=3, min_count=1, workers=1)\n",
    "\n",
    "# 단어 벡터를 구한다.\n",
    "word_vectors = model.wv\n",
    "\n",
    "vocabs = word_vectors.vocab.keys()\n",
    "word_vectors_list = [word_vectors[v] for v in vocabs]\n",
    "\n",
    "# 단어간 유사도를 확인한다.\n",
    "#print(word_vectors.similarity(w1='코로나',w2='product')) # 유사성은 높지 않다\n",
    "#print(word_vectors.similarity(w1='good',w2='excellent'))\n",
    "#print(word_vectors.similarity(w1='worst',w2='bad'))"
   ]
  },
  {
   "cell_type": "code",
   "execution_count": 37,
   "metadata": {},
   "outputs": [],
   "source": [
    "from sklearn.decomposition import PCA\n",
    "\n",
    "pca = PCA(n_components=2)   # 2개의 차원으로 축소\n",
    "xys = pca.fit_transform(word_vectors_list)\n",
    "xs = xys[:,0]\n",
    "ys = xys[:,1]"
   ]
  },
  {
   "cell_type": "code",
   "execution_count": 38,
   "metadata": {},
   "outputs": [
    {
     "data": {
      "image/png": "[encoded data removed]",
      "text/plain": [
       "<Figure size 864x864 with 1 Axes>"
      ]
     },
     "metadata": {
      "needs_background": "light"
     },
     "output_type": "display_data"
    }
   ],
   "source": [
    "# 단어와 2차원 X축의 값, Y축으로 2차원 그래프를 그린다.\n",
    "import matplotlib.pyplot as plt\n",
    "\n",
    "plt.figure(figsize=(12, 12))\n",
    "plt.scatter(xs, ys, marker = 'o')\n",
    "for i,v in enumerate(vocabs):\n",
    "    plt.annotate(v, xy=(xs[i], ys[i]))"
   ]
  },
  {
   "cell_type": "code",
   "execution_count": 39,
   "metadata": {},
   "outputs": [
    {
     "name": "stdout",
     "output_type": "stream",
     "text": [
      "[('로', 0.9998501539230347), ('고', 0.9998455047607422), ('되다', 0.9998453855514526), ('나', 0.9998442530632019), ('적', 0.999842643737793), ('다', 0.9998416304588318), ('아니다', 0.9998409748077393), ('하고', 0.9998407959938049), ('있다', 0.9998396039009094), ('오다', 0.9998396039009094)]\n"
     ]
    }
   ],
   "source": [
    "print(model.wv.most_similar(\"온라인\"))"
   ]
  }
 ],
 "metadata": {
  "kernelspec": {
   "display_name": "Python 3",
   "language": "python",
   "name": "python3"
  },
  "language_info": {
   "codemirror_mode": {
    "name": "ipython",
    "version": 3
   },
   "file_extension": ".py",
   "mimetype": "text/x-python",
   "name": "python",
   "nbconvert_exporter": "python",
   "pygments_lexer": "ipython3",
   "version": "3.7.6"
  }
 },
 "nbformat": 4,
 "nbformat_minor": 4
}
